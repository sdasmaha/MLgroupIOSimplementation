{
  "nbformat": 4,
  "nbformat_minor": 0,
  "metadata": {
    "colab": {
      "name": "MLRiosLogistic.ipynb",
      "provenance": [],
      "collapsed_sections": [],
      "authorship_tag": "ABX9TyNc36/X0gvg6HgsgFEW7dSX",
      "include_colab_link": true
    },
    "kernelspec": {
      "name": "python3",
      "display_name": "Python 3"
    }
  },
  "cells": [
    {
      "cell_type": "markdown",
      "metadata": {
        "id": "view-in-github",
        "colab_type": "text"
      },
      "source": [
        "<a href=\"https://colab.research.google.com/github/sdasmaha/MLgroupIOSimplementation/blob/master/MLRiosLogistic.ipynb\" target=\"_parent\"><img src=\"https://colab.research.google.com/assets/colab-badge.svg\" alt=\"Open In Colab\"/></a>"
      ]
    },
    {
      "cell_type": "code",
      "metadata": {
        "id": "1NjsqOD-CT0l",
        "colab_type": "code",
        "colab": {}
      },
      "source": [
        "import numpy as np\n",
        "import matplotlib.pyplot as plt\n",
        "import pandas as pd"
      ],
      "execution_count": 12,
      "outputs": []
    },
    {
      "cell_type": "code",
      "metadata": {
        "id": "HvNT5jGwCbml",
        "colab_type": "code",
        "colab": {
          "resources": {
            "http://localhost:8080/nbextensions/google.colab/files.js": {
              "data": "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",
              "ok": true,
              "headers": [
                [
                  "content-type",
                  "application/javascript"
                ]
              ],
              "status": 200,
              "status_text": ""
            }
          },
          "base_uri": "https://localhost:8080/",
          "height": 72
        },
        "outputId": "cb2bb340-2bd0-47a6-9e00-93195c97c3f0"
      },
      "source": [
        "from google.colab import files\n",
        "uploaded = files.upload()"
      ],
      "execution_count": 13,
      "outputs": [
        {
          "output_type": "display_data",
          "data": {
            "text/html": [
              "\n",
              "     <input type=\"file\" id=\"files-f86ececc-fd02-4d56-8ea6-2c4d68e3dfb1\" name=\"files[]\" multiple disabled\n",
              "        style=\"border:none\" />\n",
              "     <output id=\"result-f86ececc-fd02-4d56-8ea6-2c4d68e3dfb1\">\n",
              "      Upload widget is only available when the cell has been executed in the\n",
              "      current browser session. Please rerun this cell to enable.\n",
              "      </output>\n",
              "      <script src=\"/nbextensions/google.colab/files.js\"></script> "
            ],
            "text/plain": [
              "<IPython.core.display.HTML object>"
            ]
          },
          "metadata": {
            "tags": []
          }
        },
        {
          "output_type": "stream",
          "text": [
            "Saving RandomData.csv to RandomData (1).csv\n"
          ],
          "name": "stdout"
        }
      ]
    },
    {
      "cell_type": "code",
      "metadata": {
        "id": "o148e4NJCi5S",
        "colab_type": "code",
        "colab": {}
      },
      "source": [
        "dataset  = pd.read_csv('RandomData.csv')\n",
        "X = dataset.iloc[:,:-1].values\n",
        "y = dataset.iloc[:,-1].values"
      ],
      "execution_count": 14,
      "outputs": []
    },
    {
      "cell_type": "code",
      "metadata": {
        "id": "7n65Ek9GCov3",
        "colab_type": "code",
        "colab": {
          "base_uri": "https://localhost:8080/",
          "height": 1000
        },
        "outputId": "1589442e-b1ba-4f00-f659-f5a14a0ada45"
      },
      "source": [
        "print(X)"
      ],
      "execution_count": 15,
      "outputs": [
        {
          "output_type": "stream",
          "text": [
            "[[ 1.00000000e+00  0.00000000e+00 -1.66751235e+00  3.01960506e-01\n",
            "   1.63272990e+00  1.16653509e+00  9.02053828e-01]\n",
            " [ 2.00000000e+00  1.00000000e+00 -7.46517336e-01 -1.41327928e+00\n",
            "   1.94376303e+00 -7.08367623e-01  8.61381860e-01]\n",
            " [ 3.00000000e+00  2.00000000e+00  7.81112006e-01  9.78678582e-01\n",
            "   8.01458078e-01 -1.04891599e+00 -1.45853722e+00]\n",
            " [ 4.00000000e+00  3.00000000e+00 -7.05390164e-01  9.37194127e-03\n",
            "   2.59328620e-01 -3.35544687e-01 -4.81937540e-01]\n",
            " [ 5.00000000e+00  4.00000000e+00 -1.16222902e+00  1.29518241e+00\n",
            "   2.72989880e-01 -4.97220057e-01 -1.34269987e+00]\n",
            " [ 6.00000000e+00  5.00000000e+00  3.13559695e-01 -6.87663525e-01\n",
            "  -1.25644602e+00  4.24185186e-01 -6.47942539e-01]\n",
            " [ 7.00000000e+00  6.00000000e+00  1.35859755e-01 -5.89753397e-01\n",
            "   2.42855440e-01  7.19118774e-01 -1.38172956e+00]\n",
            " [ 8.00000000e+00  7.00000000e+00 -9.91583429e-01  1.60108979e+00\n",
            "  -1.11671394e+00 -4.28026205e-01 -4.02386885e-01]\n",
            " [ 9.00000000e+00  8.00000000e+00 -1.43663306e+00 -1.08307837e+00\n",
            "  -2.88635705e-01 -1.63705269e+00  8.30323231e-02]\n",
            " [ 1.00000000e+01  9.00000000e+00 -1.15846052e+00  3.91765287e-01\n",
            "   4.20910338e-01 -4.94056544e-01  3.25515623e-01]\n",
            " [ 1.10000000e+01  1.00000000e+01 -9.83855242e-01 -9.08699382e-02\n",
            "  -4.40900115e-01 -5.15949805e-01 -6.60140909e-03]\n",
            " [ 1.20000000e+01  1.10000000e+01  1.66258894e+00  1.67114394e-01\n",
            "  -1.31364760e+00 -1.00432320e+00  4.56662155e-01]\n",
            " [ 1.30000000e+01  1.20000000e+01  5.02844404e-01 -1.61059529e-01\n",
            "  -1.29193878e-01 -5.55982639e-01 -1.09185407e+00]\n",
            " [ 1.40000000e+01  1.30000000e+01  1.69219639e+00  8.22177099e-01\n",
            "  -6.20909640e-01  1.39873265e-01  4.77799757e-01]\n",
            " [ 1.50000000e+01  1.40000000e+01 -5.74967489e-01 -1.99599807e+00\n",
            "   6.21796608e-01  2.66976030e+00 -1.78967477e-01]\n",
            " [ 1.60000000e+01  1.50000000e+01 -1.40481158e+00 -5.54205123e-02\n",
            "  -1.08976786e+00 -2.07032680e-01  1.64104708e+00]\n",
            " [ 1.70000000e+01  1.60000000e+01  2.12859752e-01  6.88444172e-01\n",
            "   9.65074388e-01  1.96673689e+00 -1.88939288e+00]\n",
            " [ 1.80000000e+01  1.70000000e+01  8.96859325e-01 -4.24304580e-01\n",
            "   1.47901948e+00  5.20596365e-02 -3.11163433e-01]\n",
            " [ 1.90000000e+01  1.80000000e+01 -1.64365610e-01 -3.13475495e-01\n",
            "  -1.54695889e-01 -1.03316296e+00 -3.70805896e-01]\n",
            " [ 2.00000000e+01  1.90000000e+01  7.49759582e-01  6.71187294e-01\n",
            "   1.15885330e+00  1.59089519e-01  2.37126604e-01]\n",
            " [ 2.10000000e+01  2.00000000e+01  2.32690729e-01 -7.40985542e-01\n",
            "   1.12285802e+00  5.16198097e-02  3.11279962e-01]\n",
            " [ 2.20000000e+01  2.10000000e+01  1.65045557e+00 -1.02596976e+00\n",
            "   7.52298632e-01 -1.14295225e+00 -5.41440108e-01]\n",
            " [ 2.30000000e+01  2.20000000e+01 -1.03019038e+00  4.71612348e-01\n",
            "   1.30035995e+00 -1.10251023e+00 -1.39470275e+00]\n",
            " [ 2.40000000e+01  2.30000000e+01  2.13800253e+00  1.51022840e+00\n",
            "  -1.04973503e+00  1.26901443e+00  2.00310723e+00]\n",
            " [ 2.50000000e+01  2.40000000e+01  1.37035457e+00 -9.35368591e-01\n",
            "  -8.10628387e-01  1.11956177e+00 -1.54705744e+00]\n",
            " [ 2.60000000e+01  2.50000000e+01  9.73063627e-02 -4.42819958e-01\n",
            "   1.72513390e+00  2.05737450e+00  4.46273385e-01]\n",
            " [ 2.70000000e+01  2.60000000e+01 -1.14127877e+00 -2.60373423e+00\n",
            "   3.45484712e-01  1.14239659e+00 -3.15861668e-01]\n",
            " [ 2.80000000e+01  2.70000000e+01  1.35519058e+00  2.16533207e+00\n",
            "  -8.78175107e-01 -4.59535219e-01 -3.94208613e-01]\n",
            " [ 2.90000000e+01  2.80000000e+01  1.33742726e+00  2.67722406e-01\n",
            "  -6.03545192e-02  1.57207576e+00  3.74457548e-01]\n",
            " [ 3.00000000e+01  2.90000000e+01  5.68223076e-01 -1.92044910e+00\n",
            "  -1.17548819e+00  2.81044204e-01 -9.50795477e-01]\n",
            " [ 3.10000000e+01  3.00000000e+01 -6.94816466e-01  1.44893127e+00\n",
            "   1.16959643e+00  1.72229571e+00  5.08759235e-01]\n",
            " [ 3.20000000e+01  3.10000000e+01  3.39003329e-01 -1.01978545e+00\n",
            "   1.57241992e+00 -1.44068570e+00 -2.39153881e-01]\n",
            " [ 3.30000000e+01  3.20000000e+01 -1.10953249e+00  2.14061036e+00\n",
            "  -1.03605154e+00  2.11161197e-01  6.82531978e-01]\n",
            " [ 3.40000000e+01  3.30000000e+01  3.39581547e-01  1.38310334e+00\n",
            "   1.09889094e+00 -2.65548126e-01 -1.21625980e+00]\n",
            " [ 3.50000000e+01  3.40000000e+01 -8.77460161e-01  5.22789451e-01\n",
            "  -1.21364539e+00 -5.74091429e-01  5.21877976e-01]\n",
            " [ 3.60000000e+01  3.50000000e+01 -2.17247824e+00 -4.50287962e-01\n",
            "   3.20404570e-03  2.20929483e-01 -5.01980074e-02]\n",
            " [ 3.70000000e+01  3.60000000e+01 -2.10552224e+00  2.12645659e-01\n",
            "  -6.46592012e-02  1.35178460e+00  1.34096069e-01]\n",
            " [ 3.80000000e+01  3.70000000e+01  9.59335070e-01  6.89840047e-01\n",
            "  -3.06559636e-01 -1.09431659e+00  8.32161800e-01]\n",
            " [ 3.90000000e+01  3.80000000e+01 -1.13262688e+00 -2.74943226e-01\n",
            "   7.90687218e-01  1.51074162e+00 -1.81618368e+00]\n",
            " [ 4.00000000e+01  3.90000000e+01 -6.12545635e-01  3.95121905e-01\n",
            "   2.79450261e-01  8.77459927e-01 -9.37033487e-01]\n",
            " [ 4.10000000e+01  4.00000000e+01 -1.10461114e+00  5.11397977e-01\n",
            "  -1.43313748e+00 -9.61527424e-01 -3.05998831e-01]\n",
            " [ 4.20000000e+01  4.10000000e+01 -6.99128968e-01  5.17062525e-02\n",
            "   1.80849143e-01  1.12879894e-01 -1.93260779e+00]\n",
            " [ 4.30000000e+01  4.20000000e+01 -2.04713613e-01  3.13535940e-01\n",
            "  -1.30377926e+00  3.43474927e-01  2.24085555e-01]\n",
            " [ 4.40000000e+01  4.30000000e+01  7.15117548e-01  6.53580122e-01\n",
            "  -1.69954204e+00  1.51704641e+00  1.35901651e+00]\n",
            " [ 4.50000000e+01  4.40000000e+01  1.00798806e+00 -7.66047168e-01\n",
            "  -1.43797915e-01 -1.50502019e+00  1.55287926e+00]\n",
            " [ 4.60000000e+01  4.50000000e+01  4.33419331e-01 -2.68241424e-01\n",
            "  -1.08107911e+00  2.44784982e-01 -3.63678443e-03]\n",
            " [ 4.70000000e+01  4.60000000e+01 -3.29429518e-01 -2.75336683e-01\n",
            "  -4.53642928e-01  9.38573065e-01  1.11183933e+00]\n",
            " [ 4.80000000e+01  4.70000000e+01 -9.00113662e-01  2.34660634e-01\n",
            "  -9.88731121e-01  2.64504015e-01  3.96476727e-01]\n",
            " [ 4.90000000e+01  4.80000000e+01  7.46017188e-02  1.35484749e+00\n",
            "  -2.18510899e-01  7.64481697e-01  1.78031119e-01]\n",
            " [ 5.00000000e+01  4.90000000e+01  6.89832514e-02 -2.86664279e+00\n",
            "  -1.12497349e+00  6.30730069e-01 -8.32653568e-01]\n",
            " [ 5.10000000e+01  5.00000000e+01  8.76063670e-01  1.22626269e+00\n",
            "   9.80020879e-01 -6.10301631e-02  1.19859990e+00]\n",
            " [ 5.20000000e+01  5.10000000e+01  3.08221165e+00 -1.47118820e-01\n",
            "   8.72833489e-01  4.92515255e-01 -3.20546542e-01]\n",
            " [ 5.30000000e+01  5.20000000e+01  2.50228099e+00 -1.76198661e-01\n",
            "   3.69974769e-02  5.69011438e-01  6.25495244e-01]\n",
            " [ 5.40000000e+01  5.30000000e+01 -1.40715087e+00 -3.00169359e-01\n",
            "  -2.30406575e-01 -6.85834970e-01  7.24010831e-01]\n",
            " [ 5.50000000e+01  5.40000000e+01 -1.25803406e+00 -6.07176858e-01\n",
            "   1.27734926e+00  1.58248168e+00  8.74605216e-01]\n",
            " [ 5.60000000e+01  5.50000000e+01  4.24959345e-01  4.96296107e-01\n",
            "  -1.07494254e+00 -9.64161851e-01  1.35505559e-01]\n",
            " [ 5.70000000e+01  5.60000000e+01 -3.89499631e-01  1.63959841e-01\n",
            "   2.04547137e-01  1.10446870e+00 -9.24409846e-01]\n",
            " [ 5.80000000e+01  5.70000000e+01  1.11609015e-01  4.91045534e-02\n",
            "   6.69370408e-01 -2.66124433e-02  2.13312633e-01]\n",
            " [ 5.90000000e+01  5.80000000e+01 -1.29092140e+00  4.81194486e-02\n",
            "  -1.07872362e+00  2.53584268e+00 -6.58061188e-01]\n",
            " [ 6.00000000e+01  5.90000000e+01  2.31552521e-01 -7.02716479e-01\n",
            "  -4.59101151e-01  1.28885273e+00 -2.00402729e+00]\n",
            " [ 6.10000000e+01  6.00000000e+01 -3.93867869e-01  1.76404412e+00\n",
            "   7.03963637e-01 -6.06467423e-01 -5.80401098e-01]\n",
            " [ 6.20000000e+01  6.10000000e+01  9.22446997e-01  4.54090361e-01\n",
            "  -1.48600058e+00  2.64945581e-01 -1.81052166e+00]\n",
            " [ 6.30000000e+01  6.20000000e+01 -4.50318838e-01 -5.14273419e-01\n",
            "  -1.19945431e+00 -8.95080639e-01  4.03540565e-01]\n",
            " [ 6.40000000e+01  6.30000000e+01  1.55581682e+00 -2.82742296e+00\n",
            "  -1.52729110e+00  8.08049753e-01  1.38203340e+00]\n",
            " [ 6.50000000e+01  6.40000000e+01 -4.86411138e-01  1.43198631e+00\n",
            "   9.05813523e-02  1.70701817e+00  8.82961663e-01]\n",
            " [ 6.60000000e+01  6.50000000e+01  6.01381856e-01 -2.13995119e-01\n",
            "  -1.24829909e+00 -1.25875594e+00 -1.06554370e+00]\n",
            " [ 6.70000000e+01  6.60000000e+01 -3.12848198e-02  4.09467692e-01\n",
            "   1.38224397e-01 -1.66026544e+00  1.25988786e+00]\n",
            " [ 6.80000000e+01  6.70000000e+01 -2.63570003e-01 -2.90424488e-01\n",
            "  -1.47142861e+00 -8.65857954e-01 -1.79519848e-01]\n",
            " [ 6.90000000e+01  6.80000000e+01  3.15076328e-01  5.31398609e-01\n",
            "   4.37080188e-02  1.14676318e-01  2.61531925e-01]\n",
            " [ 7.00000000e+01  6.90000000e+01 -1.44722580e+00  9.28008250e-01\n",
            "   1.24711200e+00 -1.18532697e+00 -8.92469066e-02]\n",
            " [ 7.10000000e+01  7.00000000e+01  1.01251078e+00 -1.15333174e+00\n",
            "  -3.09140366e+00  4.48684469e-01  1.42612674e+00]\n",
            " [ 7.20000000e+01  7.10000000e+01  1.92875016e-01  8.28666509e-01\n",
            "  -2.52442102e-01  1.29752119e-01  1.19980918e+00]\n",
            " [ 7.30000000e+01  7.20000000e+01  7.01098362e-01  5.72298606e-01\n",
            "  -2.15345139e+00  1.88516736e+00 -4.98657277e-01]\n",
            " [ 7.40000000e+01  7.30000000e+01 -4.96287124e-01  1.38583283e+00\n",
            "   7.94736718e-01 -1.22374150e+00 -4.77390793e-01]\n",
            " [ 7.50000000e+01  7.40000000e+01 -2.34745166e-01 -1.31630392e+00\n",
            "   1.04821023e+00 -1.41267355e+00 -1.83354473e+00]\n",
            " [ 7.60000000e+01  7.50000000e+01  4.16133209e-01  1.23787774e-01\n",
            "  -8.46758316e-01 -1.25492476e+00  1.16771625e+00]\n",
            " [ 7.70000000e+01  7.60000000e+01  1.25601879e+00 -7.13330069e-01\n",
            "   4.80527078e-01 -2.03659048e-01  1.36312250e+00]\n",
            " [ 7.80000000e+01  7.70000000e+01  2.60106572e-01  4.47449648e-01\n",
            "  -6.57254865e-01 -8.08172458e-01 -9.92644638e-02]\n",
            " [ 7.90000000e+01  7.80000000e+01 -1.57236890e+00  1.17337454e+00\n",
            "  -1.03081158e+00  6.17895123e-01 -2.94080467e-01]\n",
            " [ 8.00000000e+01  7.90000000e+01  6.88414869e-01  6.94895975e-01\n",
            "   5.18578920e-01  6.39430139e-01  4.64950016e-01]\n",
            " [ 8.10000000e+01  8.00000000e+01 -1.27366885e+00  1.41850232e+00\n",
            "  -2.68009637e-02 -1.55326912e-01  1.50504591e-01]\n",
            " [ 8.20000000e+01  8.10000000e+01  7.37830154e-02  6.57010600e-02\n",
            "   1.06868585e+00 -7.41967846e-01  1.12867472e+00]\n",
            " [ 8.30000000e+01  8.20000000e+01  2.15537583e+00 -5.32229015e-01\n",
            "   1.41147944e+00 -1.77484485e-01  6.89902011e-01]\n",
            " [ 8.40000000e+01  8.30000000e+01 -1.31825948e+00  1.33684173e+00\n",
            "   1.61500723e+00  2.06388681e-01 -4.41648426e-01]\n",
            " [ 8.50000000e+01  8.40000000e+01 -7.37527080e-01  1.34439367e-01\n",
            "   2.83054483e-01  1.83213843e+00 -3.03999009e-01]\n",
            " [ 8.60000000e+01  8.50000000e+01  1.47556687e-01 -5.85330289e-01\n",
            "  -3.54935785e-01 -4.45987221e-01  4.65633826e-01]\n",
            " [ 8.70000000e+01  8.60000000e+01  9.12792839e-02  4.29302370e-01\n",
            "  -1.62696126e-01 -7.03971375e-02  3.68652539e-01]\n",
            " [ 8.80000000e+01  8.70000000e+01 -1.13949781e+00 -1.08776720e+00\n",
            "  -6.91452384e-01  6.40640807e-01  1.91142743e-02]\n",
            " [ 8.90000000e+01  8.80000000e+01  3.31125381e-01  1.14782394e+00\n",
            "  -4.56112245e-01 -5.54350783e-01  1.37491353e-01]\n",
            " [ 9.00000000e+01  8.90000000e+01 -9.01893197e-01 -1.71465035e+00\n",
            "   7.47261389e-01  2.37770095e-01  8.85590303e-01]\n",
            " [ 9.10000000e+01  9.00000000e+01  8.10171697e-01 -1.92963803e-01\n",
            "  -1.09193127e-01 -1.07620657e+00 -3.15236353e-01]\n",
            " [ 9.20000000e+01  9.10000000e+01 -3.01252829e-01 -7.58837425e-01\n",
            "   1.64464017e+00  1.48248172e+00  4.26490863e-01]\n",
            " [ 9.30000000e+01  9.20000000e+01 -1.07195216e+00  2.46664132e-01\n",
            "  -6.37851174e-01  2.15593940e-01  4.00979984e-01]\n",
            " [ 9.40000000e+01  9.30000000e+01  1.79302751e-02 -6.36231462e-01\n",
            "  -3.72156586e-01  1.05456602e+00 -6.32706361e-01]\n",
            " [ 9.50000000e+01  9.40000000e+01 -4.46245393e-01  9.11565849e-01\n",
            "  -7.60002137e-01  1.23144107e+00 -1.39993976e+00]\n",
            " [ 9.60000000e+01  9.50000000e+01 -4.44439509e-01  1.15925040e+00\n",
            "   1.16311585e+00  1.02297633e+00  1.08186469e+00]\n",
            " [ 9.70000000e+01  9.60000000e+01 -3.02762189e-01  1.58506312e+00\n",
            "  -1.38218838e+00 -2.19673149e-01 -5.84797348e-01]\n",
            " [ 9.80000000e+01  9.70000000e+01 -7.56894355e-01  3.61374469e-01\n",
            "  -6.59398928e-01 -1.04545765e+00  1.75650016e+00]\n",
            " [ 9.90000000e+01  9.80000000e+01  6.55590823e-01  6.08634204e-01\n",
            "   2.32957580e-01  5.33980542e-02 -4.46967715e-01]\n",
            " [ 1.00000000e+02  9.90000000e+01  1.33490408e+00 -2.97277741e-01\n",
            "   2.44782841e-01 -4.94064612e-01  2.00770600e-01]]\n"
          ],
          "name": "stdout"
        }
      ]
    },
    {
      "cell_type": "code",
      "metadata": {
        "id": "QsMyinS5Cx7K",
        "colab_type": "code",
        "colab": {
          "base_uri": "https://localhost:8080/",
          "height": 306
        },
        "outputId": "ce0ae3d2-6f10-474e-f84b-b2e23cc25ef3"
      },
      "source": [
        "print(y)"
      ],
      "execution_count": 21,
      "outputs": [
        {
          "output_type": "stream",
          "text": [
            "[-2.33596228  0.02567014 -1.17706497  1.27374551 -0.48180066 -0.10560142\n",
            "  1.96043076  0.48044302 -0.93872204  1.02668108 -0.11454255 -0.62360078\n",
            " -1.22174935  0.84137041  0.64068295  0.48926035 -1.68218354  0.05349647\n",
            "  1.45919388 -0.95903984 -1.20152424 -0.8333347  -0.22236286  0.0307394\n",
            " -0.43704745 -0.7873086   1.36847712  1.53801994 -1.50920672  1.13540658\n",
            " -0.61645768 -1.86075647 -0.75197382  0.54506165  0.03541695 -0.10508218\n",
            "  0.57363508  1.47756485 -0.55424825  1.29674943 -0.78179243 -2.0275548\n",
            "  0.2569936   0.41856041 -0.12384325 -0.60354533 -0.7632979  -0.65706195\n",
            " -0.86079607 -0.19460323 -0.75801901 -0.81878495 -1.40470954 -1.33302006\n",
            " -0.69318419 -0.02463527 -0.16931775  1.3702085   0.86690823 -0.86716979\n",
            "  1.23338436 -1.95982151 -0.5794953  -0.17894275  0.19597467  0.77598603\n",
            " -0.74863881 -0.63319242  1.30273917  0.33608938 -0.19069938 -0.73391046\n",
            " -0.8683355   0.07089999 -0.55729368 -0.52930033  0.02821136  0.26272092\n",
            " -1.51269242 -1.72625249  0.7190682   0.50485385  1.16477134  1.62346497\n",
            "  0.3449815  -0.24155088 -0.18524546  1.59523731  1.0372666  -0.31733181\n",
            " -0.58523103 -0.04877224  0.71670531 -1.86327305 -0.32966548 -0.34304355\n",
            "  0.96185282 -0.48068201  2.07833525  0.50823641]\n"
          ],
          "name": "stdout"
        }
      ]
    },
    {
      "cell_type": "markdown",
      "metadata": {
        "id": "e_gQc5TeDFm3",
        "colab_type": "text"
      },
      "source": [
        "## Splitting the dataset into the Training set and Test Set\n",
        "\n"
      ]
    },
    {
      "cell_type": "code",
      "metadata": {
        "id": "Zt8zrnN6C-Qx",
        "colab_type": "code",
        "colab": {}
      },
      "source": [
        "from sklearn.model_selection import train_test_split\n",
        "X_train, X_test, y_train, y_test = train_test_split(X, y, test_size = 0.25, random_state = 0)"
      ],
      "execution_count": 22,
      "outputs": []
    },
    {
      "cell_type": "code",
      "metadata": {
        "id": "UgTnaPM6EDay",
        "colab_type": "code",
        "colab": {
          "base_uri": "https://localhost:8080/",
          "height": 1000
        },
        "outputId": "5d418cbd-a96d-4e3f-ff8e-bd5c752332bf"
      },
      "source": [
        "print(X_train)"
      ],
      "execution_count": 23,
      "outputs": [
        {
          "output_type": "stream",
          "text": [
            "[[ 4.90000000e+01  4.80000000e+01  7.46017188e-02  1.35484749e+00\n",
            "  -2.18510899e-01  7.64481697e-01  1.78031119e-01]\n",
            " [ 7.00000000e+00  6.00000000e+00  1.35859755e-01 -5.89753397e-01\n",
            "   2.42855440e-01  7.19118774e-01 -1.38172956e+00]\n",
            " [ 1.00000000e+02  9.90000000e+01  1.33490408e+00 -2.97277741e-01\n",
            "   2.44782841e-01 -4.94064612e-01  2.00770600e-01]\n",
            " [ 8.30000000e+01  8.20000000e+01  2.15537583e+00 -5.32229015e-01\n",
            "   1.41147944e+00 -1.77484485e-01  6.89902011e-01]\n",
            " [ 7.70000000e+01  7.60000000e+01  1.25601879e+00 -7.13330069e-01\n",
            "   4.80527078e-01 -2.03659048e-01  1.36312250e+00]\n",
            " [ 6.10000000e+01  6.00000000e+01 -3.93867869e-01  1.76404412e+00\n",
            "   7.03963637e-01 -6.06467423e-01 -5.80401098e-01]\n",
            " [ 8.10000000e+01  8.00000000e+01 -1.27366885e+00  1.41850232e+00\n",
            "  -2.68009637e-02 -1.55326912e-01  1.50504591e-01]\n",
            " [ 9.10000000e+01  9.00000000e+01  8.10171697e-01 -1.92963803e-01\n",
            "  -1.09193127e-01 -1.07620657e+00 -3.15236353e-01]\n",
            " [ 6.90000000e+01  6.80000000e+01  3.15076328e-01  5.31398609e-01\n",
            "   4.37080188e-02  1.14676318e-01  2.61531925e-01]\n",
            " [ 5.20000000e+01  5.10000000e+01  3.08221165e+00 -1.47118820e-01\n",
            "   8.72833489e-01  4.92515255e-01 -3.20546542e-01]\n",
            " [ 2.80000000e+01  2.70000000e+01  1.35519058e+00  2.16533207e+00\n",
            "  -8.78175107e-01 -4.59535219e-01 -3.94208613e-01]\n",
            " [ 1.90000000e+01  1.80000000e+01 -1.64365610e-01 -3.13475495e-01\n",
            "  -1.54695889e-01 -1.03316296e+00 -3.70805896e-01]\n",
            " [ 5.70000000e+01  5.60000000e+01 -3.89499631e-01  1.63959841e-01\n",
            "   2.04547137e-01  1.10446870e+00 -9.24409846e-01]\n",
            " [ 6.40000000e+01  6.30000000e+01  1.55581682e+00 -2.82742296e+00\n",
            "  -1.52729110e+00  8.08049753e-01  1.38203340e+00]\n",
            " [ 7.50000000e+01  7.40000000e+01 -2.34745166e-01 -1.31630392e+00\n",
            "   1.04821023e+00 -1.41267355e+00 -1.83354473e+00]\n",
            " [ 2.00000000e+00  1.00000000e+00 -7.46517336e-01 -1.41327928e+00\n",
            "   1.94376303e+00 -7.08367623e-01  8.61381860e-01]\n",
            " [ 6.20000000e+01  6.10000000e+01  9.22446997e-01  4.54090361e-01\n",
            "  -1.48600058e+00  2.64945581e-01 -1.81052166e+00]\n",
            " [ 4.30000000e+01  4.20000000e+01 -2.04713613e-01  3.13535940e-01\n",
            "  -1.30377926e+00  3.43474927e-01  2.24085555e-01]\n",
            " [ 4.20000000e+01  4.10000000e+01 -6.99128968e-01  5.17062525e-02\n",
            "   1.80849143e-01  1.12879894e-01 -1.93260779e+00]\n",
            " [ 5.00000000e+00  4.00000000e+00 -1.16222902e+00  1.29518241e+00\n",
            "   2.72989880e-01 -4.97220057e-01 -1.34269987e+00]\n",
            " [ 1.60000000e+01  1.50000000e+01 -1.40481158e+00 -5.54205123e-02\n",
            "  -1.08976786e+00 -2.07032680e-01  1.64104708e+00]\n",
            " [ 1.80000000e+01  1.70000000e+01  8.96859325e-01 -4.24304580e-01\n",
            "   1.47901948e+00  5.20596365e-02 -3.11163433e-01]\n",
            " [ 4.10000000e+01  4.00000000e+01 -1.10461114e+00  5.11397977e-01\n",
            "  -1.43313748e+00 -9.61527424e-01 -3.05998831e-01]\n",
            " [ 3.90000000e+01  3.80000000e+01 -1.13262688e+00 -2.74943226e-01\n",
            "   7.90687218e-01  1.51074162e+00 -1.81618368e+00]\n",
            " [ 6.00000000e+00  5.00000000e+00  3.13559695e-01 -6.87663525e-01\n",
            "  -1.25644602e+00  4.24185186e-01 -6.47942539e-01]\n",
            " [ 9.20000000e+01  9.10000000e+01 -3.01252829e-01 -7.58837425e-01\n",
            "   1.64464017e+00  1.48248172e+00  4.26490863e-01]\n",
            " [ 6.00000000e+01  5.90000000e+01  2.31552521e-01 -7.02716479e-01\n",
            "  -4.59101151e-01  1.28885273e+00 -2.00402729e+00]\n",
            " [ 1.00000000e+00  0.00000000e+00 -1.66751235e+00  3.01960506e-01\n",
            "   1.63272990e+00  1.16653509e+00  9.02053828e-01]\n",
            " [ 3.50000000e+01  3.40000000e+01 -8.77460161e-01  5.22789451e-01\n",
            "  -1.21364539e+00 -5.74091429e-01  5.21877976e-01]\n",
            " [ 2.90000000e+01  2.80000000e+01  1.33742726e+00  2.67722406e-01\n",
            "  -6.03545192e-02  1.57207576e+00  3.74457548e-01]\n",
            " [ 5.10000000e+01  5.00000000e+01  8.76063670e-01  1.22626269e+00\n",
            "   9.80020879e-01 -6.10301631e-02  1.19859990e+00]\n",
            " [ 1.20000000e+01  1.10000000e+01  1.66258894e+00  1.67114394e-01\n",
            "  -1.31364760e+00 -1.00432320e+00  4.56662155e-01]\n",
            " [ 3.60000000e+01  3.50000000e+01 -2.17247824e+00 -4.50287962e-01\n",
            "   3.20404570e-03  2.20929483e-01 -5.01980074e-02]\n",
            " [ 2.40000000e+01  2.30000000e+01  2.13800253e+00  1.51022840e+00\n",
            "  -1.04973503e+00  1.26901443e+00  2.00310723e+00]\n",
            " [ 5.30000000e+01  5.20000000e+01  2.50228099e+00 -1.76198661e-01\n",
            "   3.69974769e-02  5.69011438e-01  6.25495244e-01]\n",
            " [ 1.10000000e+01  1.00000000e+01 -9.83855242e-01 -9.08699382e-02\n",
            "  -4.40900115e-01 -5.15949805e-01 -6.60140909e-03]\n",
            " [ 3.20000000e+01  3.10000000e+01  3.39003329e-01 -1.01978545e+00\n",
            "   1.57241992e+00 -1.44068570e+00 -2.39153881e-01]\n",
            " [ 6.70000000e+01  6.60000000e+01 -3.12848198e-02  4.09467692e-01\n",
            "   1.38224397e-01 -1.66026544e+00  1.25988786e+00]\n",
            " [ 5.80000000e+01  5.70000000e+01  1.11609015e-01  4.91045534e-02\n",
            "   6.69370408e-01 -2.66124433e-02  2.13312633e-01]\n",
            " [ 8.00000000e+01  7.90000000e+01  6.88414869e-01  6.94895975e-01\n",
            "   5.18578920e-01  6.39430139e-01  4.64950016e-01]\n",
            " [ 8.60000000e+01  8.50000000e+01  1.47556687e-01 -5.85330289e-01\n",
            "  -3.54935785e-01 -4.45987221e-01  4.65633826e-01]\n",
            " [ 3.30000000e+01  3.20000000e+01 -1.10953249e+00  2.14061036e+00\n",
            "  -1.03605154e+00  2.11161197e-01  6.82531978e-01]\n",
            " [ 8.50000000e+01  8.40000000e+01 -7.37527080e-01  1.34439367e-01\n",
            "   2.83054483e-01  1.83213843e+00 -3.03999009e-01]\n",
            " [ 1.50000000e+01  1.40000000e+01 -5.74967489e-01 -1.99599807e+00\n",
            "   6.21796608e-01  2.66976030e+00 -1.78967477e-01]\n",
            " [ 9.00000000e+01  8.90000000e+01 -9.01893197e-01 -1.71465035e+00\n",
            "   7.47261389e-01  2.37770095e-01  8.85590303e-01]\n",
            " [ 2.00000000e+01  1.90000000e+01  7.49759582e-01  6.71187294e-01\n",
            "   1.15885330e+00  1.59089519e-01  2.37126604e-01]\n",
            " [ 3.00000000e+01  2.90000000e+01  5.68223076e-01 -1.92044910e+00\n",
            "  -1.17548819e+00  2.81044204e-01 -9.50795477e-01]\n",
            " [ 5.00000000e+01  4.90000000e+01  6.89832514e-02 -2.86664279e+00\n",
            "  -1.12497349e+00  6.30730069e-01 -8.32653568e-01]\n",
            " [ 9.80000000e+01  9.70000000e+01 -7.56894355e-01  3.61374469e-01\n",
            "  -6.59398928e-01 -1.04545765e+00  1.75650016e+00]\n",
            " [ 9.90000000e+01  9.80000000e+01  6.55590823e-01  6.08634204e-01\n",
            "   2.32957580e-01  5.33980542e-02 -4.46967715e-01]\n",
            " [ 7.00000000e+01  6.90000000e+01 -1.44722580e+00  9.28008250e-01\n",
            "   1.24711200e+00 -1.18532697e+00 -8.92469066e-02]\n",
            " [ 2.10000000e+01  2.00000000e+01  2.32690729e-01 -7.40985542e-01\n",
            "   1.12285802e+00  5.16198097e-02  3.11279962e-01]\n",
            " [ 9.50000000e+01  9.40000000e+01 -4.46245393e-01  9.11565849e-01\n",
            "  -7.60002137e-01  1.23144107e+00 -1.39993976e+00]\n",
            " [ 7.30000000e+01  7.20000000e+01  7.01098362e-01  5.72298606e-01\n",
            "  -2.15345139e+00  1.88516736e+00 -4.98657277e-01]\n",
            " [ 7.80000000e+01  7.70000000e+01  2.60106572e-01  4.47449648e-01\n",
            "  -6.57254865e-01 -8.08172458e-01 -9.92644638e-02]\n",
            " [ 2.60000000e+01  2.50000000e+01  9.73063627e-02 -4.42819958e-01\n",
            "   1.72513390e+00  2.05737450e+00  4.46273385e-01]\n",
            " [ 3.80000000e+01  3.70000000e+01  9.59335070e-01  6.89840047e-01\n",
            "  -3.06559636e-01 -1.09431659e+00  8.32161800e-01]\n",
            " [ 8.20000000e+01  8.10000000e+01  7.37830154e-02  6.57010600e-02\n",
            "   1.06868585e+00 -7.41967846e-01  1.12867472e+00]\n",
            " [ 4.70000000e+01  4.60000000e+01 -3.29429518e-01 -2.75336683e-01\n",
            "  -4.53642928e-01  9.38573065e-01  1.11183933e+00]\n",
            " [ 4.00000000e+01  3.90000000e+01 -6.12545635e-01  3.95121905e-01\n",
            "   2.79450261e-01  8.77459927e-01 -9.37033487e-01]\n",
            " [ 6.60000000e+01  6.50000000e+01  6.01381856e-01 -2.13995119e-01\n",
            "  -1.24829909e+00 -1.25875594e+00 -1.06554370e+00]\n",
            " [ 5.90000000e+01  5.80000000e+01 -1.29092140e+00  4.81194486e-02\n",
            "  -1.07872362e+00  2.53584268e+00 -6.58061188e-01]\n",
            " [ 1.30000000e+01  1.20000000e+01  5.02844404e-01 -1.61059529e-01\n",
            "  -1.29193878e-01 -5.55982639e-01 -1.09185407e+00]\n",
            " [ 8.90000000e+01  8.80000000e+01  3.31125381e-01  1.14782394e+00\n",
            "  -4.56112245e-01 -5.54350783e-01  1.37491353e-01]\n",
            " [ 7.10000000e+01  7.00000000e+01  1.01251078e+00 -1.15333174e+00\n",
            "  -3.09140366e+00  4.48684469e-01  1.42612674e+00]\n",
            " [ 8.80000000e+01  8.70000000e+01 -1.13949781e+00 -1.08776720e+00\n",
            "  -6.91452384e-01  6.40640807e-01  1.91142743e-02]\n",
            " [ 3.70000000e+01  3.60000000e+01 -2.10552224e+00  2.12645659e-01\n",
            "  -6.46592012e-02  1.35178460e+00  1.34096069e-01]\n",
            " [ 2.20000000e+01  2.10000000e+01  1.65045557e+00 -1.02596976e+00\n",
            "   7.52298632e-01 -1.14295225e+00 -5.41440108e-01]\n",
            " [ 8.40000000e+01  8.30000000e+01 -1.31825948e+00  1.33684173e+00\n",
            "   1.61500723e+00  2.06388681e-01 -4.41648426e-01]\n",
            " [ 1.00000000e+01  9.00000000e+00 -1.15846052e+00  3.91765287e-01\n",
            "   4.20910338e-01 -4.94056544e-01  3.25515623e-01]\n",
            " [ 9.70000000e+01  9.60000000e+01 -3.02762189e-01  1.58506312e+00\n",
            "  -1.38218838e+00 -2.19673149e-01 -5.84797348e-01]\n",
            " [ 6.80000000e+01  6.70000000e+01 -2.63570003e-01 -2.90424488e-01\n",
            "  -1.47142861e+00 -8.65857954e-01 -1.79519848e-01]\n",
            " [ 6.50000000e+01  6.40000000e+01 -4.86411138e-01  1.43198631e+00\n",
            "   9.05813523e-02  1.70701817e+00  8.82961663e-01]\n",
            " [ 4.80000000e+01  4.70000000e+01 -9.00113662e-01  2.34660634e-01\n",
            "  -9.88731121e-01  2.64504015e-01  3.96476727e-01]\n",
            " [ 4.50000000e+01  4.40000000e+01  1.00798806e+00 -7.66047168e-01\n",
            "  -1.43797915e-01 -1.50502019e+00  1.55287926e+00]]\n"
          ],
          "name": "stdout"
        }
      ]
    },
    {
      "cell_type": "code",
      "metadata": {
        "id": "sCOGoSaUEEjR",
        "colab_type": "code",
        "colab": {
          "base_uri": "https://localhost:8080/",
          "height": 238
        },
        "outputId": "da904676-0eee-4a6b-aa73-18694a61be92"
      },
      "source": [
        "print(y_train)"
      ],
      "execution_count": 24,
      "outputs": [
        {
          "output_type": "stream",
          "text": [
            "[-0.86079607  1.96043076  0.50823641  1.16477134  0.02821136  1.23338436\n",
            "  0.7190682  -0.58523103  1.30273917 -0.81878495  1.53801994  1.45919388\n",
            " -0.16931775 -0.17894275 -0.55729368  0.02567014 -1.95982151  0.2569936\n",
            " -2.0275548  -0.48180066  0.48926035  0.05349647 -0.78179243 -0.55424825\n",
            " -0.10560142 -0.04877224 -0.86716979 -2.33596228  0.03541695 -1.50920672\n",
            " -0.75801901 -0.62360078 -0.10508218  0.0307394  -1.40470954 -0.11454255\n",
            " -1.86075647 -0.74863881  1.3702085  -1.72625249 -0.24155088 -0.75197382\n",
            "  0.3449815   0.64068295 -0.31733181 -0.95903984  1.13540658 -0.19460323\n",
            " -0.48068201  2.07833525  0.33608938 -1.20152424 -0.32966548 -0.8683355\n",
            "  0.26272092 -0.7873086   1.47756485  0.50485385 -0.7632979   1.29674943\n",
            "  0.77598603  0.86690823 -1.22174935  1.0372666  -0.19069938  1.59523731\n",
            "  0.57363508 -0.8333347   1.62346497  1.02668108  0.96185282 -0.63319242\n",
            "  0.19597467 -0.65706195 -0.12384325]\n"
          ],
          "name": "stdout"
        }
      ]
    },
    {
      "cell_type": "code",
      "metadata": {
        "id": "wvpq-0_dEI7L",
        "colab_type": "code",
        "colab": {
          "base_uri": "https://localhost:8080/",
          "height": 867
        },
        "outputId": "6744b2af-19f8-4d25-ad8f-f5d2ecbd3de4"
      },
      "source": [
        "print(X_test)"
      ],
      "execution_count": 25,
      "outputs": [
        {
          "output_type": "stream",
          "text": [
            "[[ 2.70000000e+01  2.60000000e+01 -1.14127877e+00 -2.60373423e+00\n",
            "   3.45484712e-01  1.14239659e+00 -3.15861668e-01]\n",
            " [ 8.70000000e+01  8.60000000e+01  9.12792839e-02  4.29302370e-01\n",
            "  -1.62696126e-01 -7.03971375e-02  3.68652539e-01]\n",
            " [ 3.00000000e+00  2.00000000e+00  7.81112006e-01  9.78678582e-01\n",
            "   8.01458078e-01 -1.04891599e+00 -1.45853722e+00]\n",
            " [ 5.60000000e+01  5.50000000e+01  4.24959345e-01  4.96296107e-01\n",
            "  -1.07494254e+00 -9.64161851e-01  1.35505559e-01]\n",
            " [ 7.60000000e+01  7.50000000e+01  4.16133209e-01  1.23787774e-01\n",
            "  -8.46758316e-01 -1.25492476e+00  1.16771625e+00]\n",
            " [ 9.40000000e+01  9.30000000e+01  1.79302751e-02 -6.36231462e-01\n",
            "  -3.72156586e-01  1.05456602e+00 -6.32706361e-01]\n",
            " [ 1.70000000e+01  1.60000000e+01  2.12859752e-01  6.88444172e-01\n",
            "   9.65074388e-01  1.96673689e+00 -1.88939288e+00]\n",
            " [ 7.40000000e+01  7.30000000e+01 -4.96287124e-01  1.38583283e+00\n",
            "   7.94736718e-01 -1.22374150e+00 -4.77390793e-01]\n",
            " [ 5.50000000e+01  5.40000000e+01 -1.25803406e+00 -6.07176858e-01\n",
            "   1.27734926e+00  1.58248168e+00  8.74605216e-01]\n",
            " [ 9.60000000e+01  9.50000000e+01 -4.44439509e-01  1.15925040e+00\n",
            "   1.16311585e+00  1.02297633e+00  1.08186469e+00]\n",
            " [ 5.40000000e+01  5.30000000e+01 -1.40715087e+00 -3.00169359e-01\n",
            "  -2.30406575e-01 -6.85834970e-01  7.24010831e-01]\n",
            " [ 9.30000000e+01  9.20000000e+01 -1.07195216e+00  2.46664132e-01\n",
            "  -6.37851174e-01  2.15593940e-01  4.00979984e-01]\n",
            " [ 7.90000000e+01  7.80000000e+01 -1.57236890e+00  1.17337454e+00\n",
            "  -1.03081158e+00  6.17895123e-01 -2.94080467e-01]\n",
            " [ 1.40000000e+01  1.30000000e+01  1.69219639e+00  8.22177099e-01\n",
            "  -6.20909640e-01  1.39873265e-01  4.77799757e-01]\n",
            " [ 8.00000000e+00  7.00000000e+00 -9.91583429e-01  1.60108979e+00\n",
            "  -1.11671394e+00 -4.28026205e-01 -4.02386885e-01]\n",
            " [ 3.10000000e+01  3.00000000e+01 -6.94816466e-01  1.44893127e+00\n",
            "   1.16959643e+00  1.72229571e+00  5.08759235e-01]\n",
            " [ 2.30000000e+01  2.20000000e+01 -1.03019038e+00  4.71612348e-01\n",
            "   1.30035995e+00 -1.10251023e+00 -1.39470275e+00]\n",
            " [ 2.50000000e+01  2.40000000e+01  1.37035457e+00 -9.35368591e-01\n",
            "  -8.10628387e-01  1.11956177e+00 -1.54705744e+00]\n",
            " [ 3.40000000e+01  3.30000000e+01  3.39581547e-01  1.38310334e+00\n",
            "   1.09889094e+00 -2.65548126e-01 -1.21625980e+00]\n",
            " [ 9.00000000e+00  8.00000000e+00 -1.43663306e+00 -1.08307837e+00\n",
            "  -2.88635705e-01 -1.63705269e+00  8.30323231e-02]\n",
            " [ 4.40000000e+01  4.30000000e+01  7.15117548e-01  6.53580122e-01\n",
            "  -1.69954204e+00  1.51704641e+00  1.35901651e+00]\n",
            " [ 6.30000000e+01  6.20000000e+01 -4.50318838e-01 -5.14273419e-01\n",
            "  -1.19945431e+00 -8.95080639e-01  4.03540565e-01]\n",
            " [ 4.00000000e+00  3.00000000e+00 -7.05390164e-01  9.37194127e-03\n",
            "   2.59328620e-01 -3.35544687e-01 -4.81937540e-01]\n",
            " [ 7.20000000e+01  7.10000000e+01  1.92875016e-01  8.28666509e-01\n",
            "  -2.52442102e-01  1.29752119e-01  1.19980918e+00]\n",
            " [ 4.60000000e+01  4.50000000e+01  4.33419331e-01 -2.68241424e-01\n",
            "  -1.08107911e+00  2.44784982e-01 -3.63678443e-03]]\n"
          ],
          "name": "stdout"
        }
      ]
    },
    {
      "cell_type": "code",
      "metadata": {
        "id": "WjMCUMUjEL-5",
        "colab_type": "code",
        "colab": {
          "base_uri": "https://localhost:8080/",
          "height": 102
        },
        "outputId": "567b6579-d15b-484a-fc3c-4563005453fd"
      },
      "source": [
        "print(y_test)"
      ],
      "execution_count": 26,
      "outputs": [
        {
          "output_type": "stream",
          "text": [
            "[ 1.36847712 -0.18524546 -1.17706497 -0.02463527 -0.52930033 -1.86327305\n",
            " -1.68218354  0.07089999 -0.69318419 -0.34304355 -1.33302006  0.71670531\n",
            " -1.51269242  0.84137041  0.48044302 -0.61645768 -0.22236286 -0.43704745\n",
            "  0.54506165 -0.93872204  0.41856041 -0.5794953   1.27374551 -0.73391046\n",
            " -0.60354533]\n"
          ],
          "name": "stdout"
        }
      ]
    },
    {
      "cell_type": "markdown",
      "metadata": {
        "id": "VjzlvN8wEQXg",
        "colab_type": "text"
      },
      "source": [
        "#Feature Scaling"
      ]
    },
    {
      "cell_type": "code",
      "metadata": {
        "id": "wPyu3MA3EPwL",
        "colab_type": "code",
        "colab": {}
      },
      "source": [
        "from sklearn.preprocessing import StandardScaler\n",
        "sc = StandardScaler()\n",
        "X_train = sc.fit_transform(X_train)\n",
        "X_test = sc.transform(X_test)"
      ],
      "execution_count": 27,
      "outputs": []
    },
    {
      "cell_type": "code",
      "metadata": {
        "colab_type": "code",
        "id": "dsNWAErZEj7k",
        "colab": {
          "base_uri": "https://localhost:8080/",
          "height": 1000
        },
        "outputId": "d01f04d8-af3c-4cf4-da2d-21be8b0d6672"
      },
      "source": [
        "print(X_train)"
      ],
      "execution_count": 28,
      "outputs": [
        {
          "output_type": "stream",
          "text": [
            "[[-8.97614868e-02 -8.97614868e-02  3.37726761e-02  1.32994474e+00\n",
            "  -1.48989225e-01  6.36284247e-01  1.75859156e-01]\n",
            " [-1.57012109e+00 -1.57012109e+00  9.11182986e-02 -6.02951404e-01\n",
            "   3.02377354e-01  5.90554166e-01 -1.52305506e+00]\n",
            " [ 1.70781803e+00  1.70781803e+00  1.21358234e+00 -3.12236188e-01\n",
            "   3.04262980e-01 -6.32448477e-01  2.00627333e-01]\n",
            " [ 1.10862485e+00  1.10862485e+00  1.98165241e+00 -5.45773267e-01\n",
            "   1.44567233e+00 -3.13306016e-01  7.33396442e-01]\n",
            " [ 8.97144912e-01  8.97144912e-01  1.13973529e+00 -7.25784256e-01\n",
            "   5.34897641e-01 -3.39692430e-01  1.46667808e+00]\n",
            " [ 3.33198399e-01  3.33198399e-01 -4.04776809e-01  1.73667837e+00\n",
            "   7.53491385e-01 -7.45761054e-01 -6.50236343e-01]\n",
            " [ 1.03813154e+00  1.03813154e+00 -1.22838687e+00  1.39321643e+00\n",
            "   3.85655451e-02 -2.90969104e-01  1.45876858e-01]\n",
            " [ 1.39059811e+00  1.39059811e+00  7.22363448e-01 -2.08550126e-01\n",
            "  -4.20408315e-02 -1.21930218e+00 -3.61415012e-01]\n",
            " [ 6.15171655e-01  6.15171655e-01  2.58888710e-01  5.11452277e-01\n",
            "   1.07546300e-01 -1.87805236e-02  2.66809459e-01]\n",
            " [ 1.59784846e-02  1.59784846e-02  2.84929330e+00 -1.62981089e-01\n",
            "   9.18701112e-01  3.62116564e-01 -3.67198947e-01]\n",
            " [-8.29941286e-01 -8.29941286e-01  1.23257320e+00  2.13555093e+00\n",
            "  -7.94355718e-01 -5.97639611e-01 -4.47432757e-01]\n",
            " [-1.14716120e+00 -1.14716120e+00 -1.89932345e-01 -3.28336447e-01\n",
            "  -8.65573555e-02 -1.17591018e+00 -4.21942174e-01]\n",
            " [ 1.92211770e-01  1.92211770e-01 -4.00687560e-01  1.46225159e-01\n",
            "   2.64899354e-01  9.79023039e-01 -1.02493572e+00]\n",
            " [ 4.38938370e-01  4.38938370e-01  1.42038589e+00 -2.82715222e+00\n",
            "  -1.42940262e+00  6.80204934e-01  1.48727611e+00]\n",
            " [ 8.26651598e-01  8.26651598e-01 -2.55816916e-01 -1.32512875e+00\n",
            "   1.09027670e+00 -1.55849245e+00 -2.01517877e+00]\n",
            " [-1.74635437e+00 -1.74635437e+00 -7.34903344e-01 -1.42152040e+00\n",
            "   1.96641908e+00 -8.48486013e-01  9.20174810e-01]\n",
            " [ 3.68445056e-01  3.68445056e-01  8.27467976e-01  4.34609356e-01\n",
            "  -1.38900704e+00  1.32704989e-01 -1.99010171e+00]\n",
            " [-3.01241429e-01 -3.01241429e-01 -2.27703411e-01  2.94900945e-01\n",
            "  -1.21073523e+00  2.11869935e-01  2.26022324e-01]\n",
            " [-3.36488087e-01 -3.36488087e-01 -6.90541565e-01  3.46472362e-02\n",
            "   2.41714996e-01 -2.05914871e-02 -2.12307971e+00]\n",
            " [-1.64061440e+00 -1.64061440e+00 -1.12406446e+00  1.27063879e+00\n",
            "   3.31858653e-01 -6.35629462e-01 -1.48054335e+00]\n",
            " [-1.25290117e+00 -1.25290117e+00 -1.35115381e+00 -7.18347220e-02\n",
            "  -1.00136236e+00 -3.43093368e-01  1.76939761e+00]\n",
            " [-1.18240786e+00 -1.18240786e+00  8.03514531e-01 -4.38498440e-01\n",
            "   1.51174849e+00 -8.19040115e-02 -3.56978727e-01]\n",
            " [-3.71734744e-01 -3.71734744e-01 -1.07012650e+00  4.91572031e-01\n",
            "  -1.33728970e+00 -1.10369484e+00 -3.51353368e-01]\n",
            " [-4.42228058e-01 -4.42228058e-01 -1.09635294e+00 -2.90036107e-01\n",
            "   8.38335298e-01  1.38858425e+00 -1.99626886e+00]\n",
            " [-1.60536774e+00 -1.60536774e+00  2.57468942e-01 -7.00272202e-01\n",
            "  -1.16442790e+00  2.93233446e-01 -7.23803472e-01]\n",
            " [ 1.42584477e+00  1.42584477e+00 -3.18076884e-01 -7.71017699e-01\n",
            "   1.67377948e+00  1.36009561e+00  4.46485155e-01]\n",
            " [ 2.97951741e-01  2.97951741e-01  1.80699382e-01 -7.15234550e-01\n",
            "  -3.84364868e-01  1.16489943e+00 -2.20087088e+00]\n",
            " [-1.78160103e+00 -1.78160103e+00 -1.59707647e+00  2.83395185e-01\n",
            "   1.66212735e+00  1.04159177e+00  9.64475315e-01]\n",
            " [-5.83214686e-01 -5.83214686e-01 -8.57483144e-01  5.02894938e-01\n",
            "  -1.12255494e+00 -7.13123016e-01  5.50382199e-01]\n",
            " [-7.94694629e-01 -7.94694629e-01  1.21594438e+00  2.49363167e-01\n",
            "   5.73923712e-03  1.45041481e+00  3.89809705e-01]\n",
            " [-1.92681726e-02 -1.92681726e-02  7.84047048e-01  1.20213391e+00\n",
            "   1.02356530e+00 -1.95909137e-01  1.28747765e+00]\n",
            " [-1.39388780e+00 -1.39388780e+00  1.52033871e+00  1.49360724e-01\n",
            "  -1.22038968e+00 -1.14683700e+00  4.79348169e-01]\n",
            " [-5.47968029e-01 -5.47968029e-01 -2.06979132e+00 -4.64325426e-01\n",
            "   6.79202190e-02  8.83326332e-02 -7.27313570e-02]\n",
            " [-9.70927914e-01 -9.70927914e-01  1.96538870e+00  1.48439039e+00\n",
            "  -9.62197211e-01  1.14490057e+00  2.16375884e+00]\n",
            " [ 5.12251417e-02  5.12251417e-02  2.30640151e+00 -1.91885895e-01\n",
            "   1.00981203e-01  4.39231892e-01  6.63243647e-01]\n",
            " [-1.42913446e+00 -1.42913446e+00 -9.57083009e-01 -1.07070774e-01\n",
            "  -3.66558325e-01 -6.54510805e-01 -2.52453024e-02]\n",
            " [-6.88954658e-01 -6.88954658e-01  2.81287548e-01 -1.03039505e+00\n",
            "   1.60312455e+00 -1.58673133e+00 -2.78544867e-01]\n",
            " [ 5.44678341e-01  5.44678341e-01 -6.53511265e-02  3.90255274e-01\n",
            "   2.00014108e-01 -1.80808830e+00  1.35423339e+00]\n",
            " [ 2.27458427e-01  2.27458427e-01  6.84163994e-02  3.20611970e-02\n",
            "   7.19647937e-01 -1.61212847e-01  2.14288299e-01]\n",
            " [ 1.00288488e+00  1.00288488e+00  6.08382955e-01  6.73965536e-01\n",
            "   5.72124739e-01  5.10220547e-01  4.88375429e-01]\n",
            " [ 1.21436483e+00  1.21436483e+00  1.02068173e-01 -5.98554920e-01\n",
            "  -2.82457206e-01 -5.83981958e-01  4.89120244e-01]\n",
            " [-6.53708001e-01 -6.53708001e-01 -1.07473353e+00  2.11097802e+00\n",
            "  -9.48810300e-01  7.84852841e-02  7.25368895e-01]\n",
            " [ 1.17911817e+00  1.17911817e+00 -7.26487276e-01  1.16882372e-01\n",
            "   3.41705113e-01  1.71258237e+00 -3.49175132e-01]\n",
            " [-1.28814783e+00 -1.28814783e+00 -5.74310002e-01 -2.00073175e+00\n",
            "   6.73105263e-01  2.55698378e+00 -2.12988952e-01]\n",
            " [ 1.35535145e+00  1.35535145e+00 -8.80355697e-01 -1.72107749e+00\n",
            "   7.95850691e-01  1.05309549e-01  9.46543002e-01]\n",
            " [-1.11191454e+00 -1.11191454e+00  6.65809719e-01  6.50399560e-01\n",
            "   1.19852166e+00  2.59921487e-02  2.40226825e-01]\n",
            " [-7.59447972e-01 -7.59447972e-01  4.95867543e-01 -1.92563752e+00\n",
            "  -1.08522477e+00  1.48933910e-01 -1.05367534e+00]\n",
            " [-5.45148297e-02 -5.45148297e-02  2.85130476e-02 -2.86613597e+00\n",
            "  -1.03580494e+00  5.01450061e-01 -9.24993435e-01]\n",
            " [ 1.63732471e+00  1.63732471e+00 -7.44617606e-01  3.42451529e-01\n",
            "  -5.80321344e-01 -1.18830437e+00  1.89515080e+00]\n",
            " [ 1.67257137e+00  1.67257137e+00  5.77655308e-01  5.88222983e-01\n",
            "   2.92694022e-01 -8.05547609e-02 -5.04898744e-01]\n",
            " [ 6.50418313e-01  6.50418313e-01 -1.39085913e+00  9.05674686e-01\n",
            "   1.28486743e+00 -1.32930577e+00 -1.15263991e-01]\n",
            " [-1.07666789e+00 -1.07666789e+00  1.81764895e-01 -7.53273268e-01\n",
            "   1.16330656e+00 -8.23473982e-02  3.20995751e-01]\n",
            " [ 1.53158474e+00  1.53158474e+00 -4.53809098e-01  8.89331254e-01\n",
            "  -6.78744056e-01  1.10702309e+00 -1.54288988e+00]\n",
            " [ 7.56158284e-01  7.56158284e-01  6.20256382e-01  5.52106093e-01\n",
            "  -2.04199137e+00  1.76604051e+00 -5.61199774e-01]\n",
            " [ 9.32391569e-01  9.32391569e-01  2.07429750e-01  4.28008613e-01\n",
            "  -5.78223753e-01 -9.49098648e-01 -1.26175261e-01]\n",
            " [-9.00434600e-01 -9.00434600e-01  5.50272252e-02 -4.56902373e-01\n",
            "   1.75252857e+00  1.93964146e+00  4.68032568e-01]\n",
            " [-4.77474715e-01 -4.77474715e-01  8.62000090e-01  6.68940041e-01\n",
            "  -2.35129573e-01 -1.23755877e+00  8.88347892e-01]\n",
            " [ 1.07337820e+00  1.07337820e+00  3.30062614e-02  4.85578076e-02\n",
            "   1.11030853e+00 -8.82358190e-01  1.21131411e+00]\n",
            " [-1.60254801e-01 -1.60254801e-01 -3.44453991e-01 -2.90427195e-01\n",
            "  -3.79024947e-01  8.11784675e-01  1.19297677e+00]\n",
            " [-4.06981401e-01 -4.06981401e-01 -6.09488116e-01  3.75995836e-01\n",
            "   3.38179010e-01  7.50176900e-01 -1.03868557e+00]\n",
            " [ 5.09431684e-01  5.09431684e-01  5.26908546e-01 -2.29454853e-01\n",
            "  -1.15645755e+00 -1.40332906e+00 -1.17866078e+00]\n",
            " [ 2.62705084e-01  2.62705084e-01 -1.24453754e+00  3.10820217e-02\n",
            "  -9.90557495e-01  2.42198226e+00 -7.34824852e-01]\n",
            " [-1.35864114e+00 -1.35864114e+00  4.34664460e-01 -1.76837887e-01\n",
            "  -6.16080812e-02 -6.94867656e-01 -1.20731842e+00]\n",
            " [ 1.32010480e+00  1.32010480e+00  2.73912746e-01  1.12416728e+00\n",
            "  -3.81440744e-01 -6.93222593e-01  1.31702649e-01]\n",
            " [ 6.85664970e-01  6.85664970e-01  9.11779589e-01 -1.16313751e+00\n",
            "  -2.95961425e+00  3.17931021e-01  1.53530323e+00]\n",
            " [ 1.28485814e+00  1.28485814e+00 -1.10278503e+00 -1.09796762e+00\n",
            "  -6.11680066e-01  5.11441014e-01  2.76459722e-03]\n",
            " [-5.12721372e-01 -5.12721372e-01 -2.00711165e+00  1.94617933e-01\n",
            "   1.52785582e-03  1.22834066e+00  1.28004456e-01]\n",
            " [-1.04142123e+00 -1.04142123e+00  1.50898027e+00 -1.03654213e+00\n",
            "   8.00778755e-01 -1.28658808e+00 -6.07799461e-01]\n",
            " [ 1.14387151e+00  1.14387151e+00 -1.27012960e+00  1.31204736e+00\n",
            "   1.64478881e+00  7.36741402e-02 -4.99104897e-01]\n",
            " [-1.46438111e+00 -1.46438111e+00 -1.12053664e+00  3.72659422e-01\n",
            "   4.76573048e-01 -6.32440345e-01  3.36501442e-01]\n",
            " [ 1.60207805e+00  1.60207805e+00 -3.19489845e-01  1.55877468e+00\n",
            "  -1.28744489e+00 -3.55836147e-01 -6.55024803e-01]\n",
            " [ 5.79924998e-01  5.79924998e-01 -2.82800775e-01 -3.05424186e-01\n",
            "  -1.37475091e+00 -1.00725104e+00 -2.13590603e-01]\n",
            " [ 4.74185027e-01  4.74185027e-01 -4.91409546e-01  1.40661926e+00\n",
            "   1.53403690e-01  1.58644942e+00  9.43679848e-01]\n",
            " [-1.25008144e-01 -1.25008144e-01 -8.78689817e-01  2.16500397e-01\n",
            "  -9.02515515e-01  1.32259848e-01  4.13793318e-01]\n",
            " [-2.30748115e-01 -2.30748115e-01  9.07545725e-01 -7.78184046e-01\n",
            "  -7.58955870e-02 -1.65158652e+00  1.67336392e+00]]\n"
          ],
          "name": "stdout"
        }
      ]
    },
    {
      "cell_type": "code",
      "metadata": {
        "colab_type": "code",
        "id": "fsigsx0KEj7r",
        "colab": {
          "base_uri": "https://localhost:8080/",
          "height": 238
        },
        "outputId": "9926c37a-060f-4d6a-caa3-1de138bd8066"
      },
      "source": [
        "print(y_train)"
      ],
      "execution_count": 29,
      "outputs": [
        {
          "output_type": "stream",
          "text": [
            "[-0.86079607  1.96043076  0.50823641  1.16477134  0.02821136  1.23338436\n",
            "  0.7190682  -0.58523103  1.30273917 -0.81878495  1.53801994  1.45919388\n",
            " -0.16931775 -0.17894275 -0.55729368  0.02567014 -1.95982151  0.2569936\n",
            " -2.0275548  -0.48180066  0.48926035  0.05349647 -0.78179243 -0.55424825\n",
            " -0.10560142 -0.04877224 -0.86716979 -2.33596228  0.03541695 -1.50920672\n",
            " -0.75801901 -0.62360078 -0.10508218  0.0307394  -1.40470954 -0.11454255\n",
            " -1.86075647 -0.74863881  1.3702085  -1.72625249 -0.24155088 -0.75197382\n",
            "  0.3449815   0.64068295 -0.31733181 -0.95903984  1.13540658 -0.19460323\n",
            " -0.48068201  2.07833525  0.33608938 -1.20152424 -0.32966548 -0.8683355\n",
            "  0.26272092 -0.7873086   1.47756485  0.50485385 -0.7632979   1.29674943\n",
            "  0.77598603  0.86690823 -1.22174935  1.0372666  -0.19069938  1.59523731\n",
            "  0.57363508 -0.8333347   1.62346497  1.02668108  0.96185282 -0.63319242\n",
            "  0.19597467 -0.65706195 -0.12384325]\n"
          ],
          "name": "stdout"
        }
      ]
    },
    {
      "cell_type": "code",
      "metadata": {
        "colab_type": "code",
        "id": "_rKVJELhEj7x",
        "colab": {
          "base_uri": "https://localhost:8080/",
          "height": 867
        },
        "outputId": "ebb2e920-b7d8-47d3-e902-6c79226a5c3d"
      },
      "source": [
        "print(X_test)"
      ],
      "execution_count": 30,
      "outputs": [
        {
          "output_type": "stream",
          "text": [
            "[[-0.86518794 -0.86518794 -1.10445225 -2.60480989  0.40278222  1.0172579\n",
            "  -0.36209611]\n",
            " [ 1.24961148  1.24961148  0.04938508  0.40997057 -0.09438419 -0.20535193\n",
            "   0.3834868 ]\n",
            " [-1.71110771 -1.71110771  0.69515973  0.95604003  0.84887271 -1.19179071\n",
            "  -1.60671509]\n",
            " [ 0.15696511  0.15696511  0.36175375  0.47656106 -0.98685836 -1.10635059\n",
            "   0.12953969]\n",
            " [ 0.86189826  0.86189826  0.35349132  0.10629489 -0.76361986 -1.39946687\n",
            "   1.25383872]\n",
            " [ 1.49633808  1.49633808 -0.01927929 -0.64914971 -0.29930476  0.92871645\n",
            "  -0.707208  ]\n",
            " [-1.21765451 -1.21765451  0.16320048  0.66755257  1.00894276  1.84827025\n",
            "  -2.0760094 ]\n",
            " [ 0.79140494  0.79140494 -0.50065478  1.36074357  0.84229703 -1.36803122\n",
            "  -0.53803601]\n",
            " [ 0.12171846  0.12171846 -1.21375064 -0.62026999  1.31444931  1.46090496\n",
            "   0.93457788]\n",
            " [ 1.5668314   1.5668314  -0.45211855  1.13552497  1.20269183  0.89687108\n",
            "   1.16032794]\n",
            " [ 0.0864718   0.0864718  -1.35334369 -0.3151104  -0.16062707 -0.82577099\n",
            "   0.77054827]\n",
            " [ 1.46109143  1.46109143 -1.03955337  0.22843165 -0.55924062  0.0829539\n",
            "   0.41869833]\n",
            " [ 0.96763823  0.96763823 -1.50800962  1.1495641  -0.94368392  0.48851123\n",
            "  -0.33837171]\n",
            " [-1.32339449 -1.32339449  1.5480552   0.80048054 -0.54266628  0.00662036\n",
            "   0.50237155]\n",
            " [-1.53487443 -1.53487443 -0.96431762  1.57470488 -1.02772441 -0.56587557\n",
            "  -0.45634065]\n",
            " [-0.72420131 -0.72420131 -0.68650449  1.42346222  1.20903195  1.60185061\n",
            "   0.53609307]\n",
            " [-1.00617457 -1.00617457 -1.00045882  0.45202588  1.33696126 -1.24581873\n",
            "  -1.53718565]\n",
            " [-0.93568126 -0.93568126  1.2467687  -0.94648631 -0.72827302  0.99423827\n",
            "  -1.70313261]\n",
            " [-0.61846134 -0.61846134  0.28182884  1.35803051  1.13985894 -0.40208243\n",
            "  -1.34282297]\n",
            " [-1.49962777 -1.49962777 -1.38094292 -1.093307   -0.21759413 -1.78468767\n",
            "   0.07238507]\n",
            " [-0.26599477 -0.26599477  0.63338019  0.63289837 -1.59792016  1.39494007\n",
            "   1.46220577]\n",
            " [ 0.40369171  0.40369171 -0.45762238 -0.52792575 -1.10867144 -1.03671025\n",
            "   0.42148735]\n",
            " [-1.67586106 -1.67586106 -0.69640287 -0.00743226  0.31849349 -0.47264552\n",
            "  -0.54298839]\n",
            " [ 0.72091163  0.72091163  0.14449212  0.80693089 -0.18218499 -0.0035827\n",
            "   1.28879481]\n",
            " [-0.19550146 -0.19550146  0.36967341 -0.28337464 -0.99286193  0.11238121\n",
            "  -0.02201619]]\n"
          ],
          "name": "stdout"
        }
      ]
    },
    {
      "cell_type": "code",
      "metadata": {
        "colab_type": "code",
        "id": "0RmCfKYyEj70",
        "colab": {
          "base_uri": "https://localhost:8080/",
          "height": 102
        },
        "outputId": "57f43cb7-7573-459d-a19a-06d030e7d5ef"
      },
      "source": [
        "print(y_test)"
      ],
      "execution_count": 31,
      "outputs": [
        {
          "output_type": "stream",
          "text": [
            "[ 1.36847712 -0.18524546 -1.17706497 -0.02463527 -0.52930033 -1.86327305\n",
            " -1.68218354  0.07089999 -0.69318419 -0.34304355 -1.33302006  0.71670531\n",
            " -1.51269242  0.84137041  0.48044302 -0.61645768 -0.22236286 -0.43704745\n",
            "  0.54506165 -0.93872204  0.41856041 -0.5794953   1.27374551 -0.73391046\n",
            " -0.60354533]\n"
          ],
          "name": "stdout"
        }
      ]
    },
    {
      "cell_type": "markdown",
      "metadata": {
        "id": "Dsw5NMvjE-78",
        "colab_type": "text"
      },
      "source": [
        "## Training the Logistic Regression model on the Training set"
      ]
    },
    {
      "cell_type": "code",
      "metadata": {
        "id": "BwXQfQaOE-H_",
        "colab_type": "code",
        "colab": {
          "base_uri": "https://localhost:8080/",
          "height": 341
        },
        "outputId": "a7142e26-c93e-4e05-b9dd-c6d438f956a5"
      },
      "source": [
        "from sklearn.linear_model import LogisticRegression\n",
        "classifier = LogisticRegression(random_state = 0)\n",
        "classifier.fit(X_train, y_train)"
      ],
      "execution_count": 35,
      "outputs": [
        {
          "output_type": "error",
          "ename": "ValueError",
          "evalue": "ignored",
          "traceback": [
            "\u001b[0;31m---------------------------------------------------------------------------\u001b[0m",
            "\u001b[0;31mValueError\u001b[0m                                Traceback (most recent call last)",
            "\u001b[0;32m<ipython-input-35-d71d9ba7b834>\u001b[0m in \u001b[0;36m<module>\u001b[0;34m()\u001b[0m\n\u001b[1;32m      1\u001b[0m \u001b[0;32mfrom\u001b[0m \u001b[0msklearn\u001b[0m\u001b[0;34m.\u001b[0m\u001b[0mlinear_model\u001b[0m \u001b[0;32mimport\u001b[0m \u001b[0mLogisticRegression\u001b[0m\u001b[0;34m\u001b[0m\u001b[0;34m\u001b[0m\u001b[0m\n\u001b[1;32m      2\u001b[0m \u001b[0mclassifier\u001b[0m \u001b[0;34m=\u001b[0m \u001b[0mLogisticRegression\u001b[0m\u001b[0;34m(\u001b[0m\u001b[0mrandom_state\u001b[0m \u001b[0;34m=\u001b[0m \u001b[0;36m0\u001b[0m\u001b[0;34m)\u001b[0m\u001b[0;34m\u001b[0m\u001b[0;34m\u001b[0m\u001b[0m\n\u001b[0;32m----> 3\u001b[0;31m \u001b[0mclassifier\u001b[0m\u001b[0;34m.\u001b[0m\u001b[0mfit\u001b[0m\u001b[0;34m(\u001b[0m\u001b[0mX_train\u001b[0m\u001b[0;34m,\u001b[0m \u001b[0my_train\u001b[0m\u001b[0;34m)\u001b[0m\u001b[0;34m\u001b[0m\u001b[0;34m\u001b[0m\u001b[0m\n\u001b[0m",
            "\u001b[0;32m/usr/local/lib/python3.6/dist-packages/sklearn/linear_model/_logistic.py\u001b[0m in \u001b[0;36mfit\u001b[0;34m(self, X, y, sample_weight)\u001b[0m\n\u001b[1;32m   1526\u001b[0m         X, y = check_X_y(X, y, accept_sparse='csr', dtype=_dtype, order=\"C\",\n\u001b[1;32m   1527\u001b[0m                          accept_large_sparse=solver != 'liblinear')\n\u001b[0;32m-> 1528\u001b[0;31m         \u001b[0mcheck_classification_targets\u001b[0m\u001b[0;34m(\u001b[0m\u001b[0my\u001b[0m\u001b[0;34m)\u001b[0m\u001b[0;34m\u001b[0m\u001b[0;34m\u001b[0m\u001b[0m\n\u001b[0m\u001b[1;32m   1529\u001b[0m         \u001b[0mself\u001b[0m\u001b[0;34m.\u001b[0m\u001b[0mclasses_\u001b[0m \u001b[0;34m=\u001b[0m \u001b[0mnp\u001b[0m\u001b[0;34m.\u001b[0m\u001b[0munique\u001b[0m\u001b[0;34m(\u001b[0m\u001b[0my\u001b[0m\u001b[0;34m)\u001b[0m\u001b[0;34m\u001b[0m\u001b[0;34m\u001b[0m\u001b[0m\n\u001b[1;32m   1530\u001b[0m         \u001b[0mn_samples\u001b[0m\u001b[0;34m,\u001b[0m \u001b[0mn_features\u001b[0m \u001b[0;34m=\u001b[0m \u001b[0mX\u001b[0m\u001b[0;34m.\u001b[0m\u001b[0mshape\u001b[0m\u001b[0;34m\u001b[0m\u001b[0;34m\u001b[0m\u001b[0m\n",
            "\u001b[0;32m/usr/local/lib/python3.6/dist-packages/sklearn/utils/multiclass.py\u001b[0m in \u001b[0;36mcheck_classification_targets\u001b[0;34m(y)\u001b[0m\n\u001b[1;32m    167\u001b[0m     if y_type not in ['binary', 'multiclass', 'multiclass-multioutput',\n\u001b[1;32m    168\u001b[0m                       'multilabel-indicator', 'multilabel-sequences']:\n\u001b[0;32m--> 169\u001b[0;31m         \u001b[0;32mraise\u001b[0m \u001b[0mValueError\u001b[0m\u001b[0;34m(\u001b[0m\u001b[0;34m\"Unknown label type: %r\"\u001b[0m \u001b[0;34m%\u001b[0m \u001b[0my_type\u001b[0m\u001b[0;34m)\u001b[0m\u001b[0;34m\u001b[0m\u001b[0;34m\u001b[0m\u001b[0m\n\u001b[0m\u001b[1;32m    170\u001b[0m \u001b[0;34m\u001b[0m\u001b[0m\n\u001b[1;32m    171\u001b[0m \u001b[0;34m\u001b[0m\u001b[0m\n",
            "\u001b[0;31mValueError\u001b[0m: Unknown label type: 'continuous'"
          ]
        }
      ]
    },
    {
      "cell_type": "markdown",
      "metadata": {
        "id": "CXqa3LfKHjnR",
        "colab_type": "text"
      },
      "source": [
        "#Predicting a new Result\n"
      ]
    },
    {
      "cell_type": "code",
      "metadata": {
        "id": "0qKwdh5yE9_J",
        "colab_type": "code",
        "colab": {
          "base_uri": "https://localhost:8080/",
          "height": 283
        },
        "outputId": "9698c3d2-7ab6-4aea-8582-27356d25597b"
      },
      "source": [
        "print(classifier.predict(sc.transform([[30,87000]])))"
      ],
      "execution_count": 34,
      "outputs": [
        {
          "output_type": "error",
          "ename": "ValueError",
          "evalue": "ignored",
          "traceback": [
            "\u001b[0;31m---------------------------------------------------------------------------\u001b[0m",
            "\u001b[0;31mValueError\u001b[0m                                Traceback (most recent call last)",
            "\u001b[0;32m<ipython-input-34-88186c8a6ece>\u001b[0m in \u001b[0;36m<module>\u001b[0;34m()\u001b[0m\n\u001b[0;32m----> 1\u001b[0;31m \u001b[0mprint\u001b[0m\u001b[0;34m(\u001b[0m\u001b[0mclassifier\u001b[0m\u001b[0;34m.\u001b[0m\u001b[0mpredict\u001b[0m\u001b[0;34m(\u001b[0m\u001b[0msc\u001b[0m\u001b[0;34m.\u001b[0m\u001b[0mtransform\u001b[0m\u001b[0;34m(\u001b[0m\u001b[0;34m[\u001b[0m\u001b[0;34m[\u001b[0m\u001b[0;36m30\u001b[0m\u001b[0;34m,\u001b[0m\u001b[0;36m87000\u001b[0m\u001b[0;34m]\u001b[0m\u001b[0;34m]\u001b[0m\u001b[0;34m)\u001b[0m\u001b[0;34m)\u001b[0m\u001b[0;34m)\u001b[0m\u001b[0;34m\u001b[0m\u001b[0;34m\u001b[0m\u001b[0m\n\u001b[0m",
            "\u001b[0;32m/usr/local/lib/python3.6/dist-packages/sklearn/preprocessing/_data.py\u001b[0m in \u001b[0;36mtransform\u001b[0;34m(self, X, copy)\u001b[0m\n\u001b[1;32m    804\u001b[0m         \u001b[0;32melse\u001b[0m\u001b[0;34m:\u001b[0m\u001b[0;34m\u001b[0m\u001b[0;34m\u001b[0m\u001b[0m\n\u001b[1;32m    805\u001b[0m             \u001b[0;32mif\u001b[0m \u001b[0mself\u001b[0m\u001b[0;34m.\u001b[0m\u001b[0mwith_mean\u001b[0m\u001b[0;34m:\u001b[0m\u001b[0;34m\u001b[0m\u001b[0;34m\u001b[0m\u001b[0m\n\u001b[0;32m--> 806\u001b[0;31m                 \u001b[0mX\u001b[0m \u001b[0;34m-=\u001b[0m \u001b[0mself\u001b[0m\u001b[0;34m.\u001b[0m\u001b[0mmean_\u001b[0m\u001b[0;34m\u001b[0m\u001b[0;34m\u001b[0m\u001b[0m\n\u001b[0m\u001b[1;32m    807\u001b[0m             \u001b[0;32mif\u001b[0m \u001b[0mself\u001b[0m\u001b[0;34m.\u001b[0m\u001b[0mwith_std\u001b[0m\u001b[0;34m:\u001b[0m\u001b[0;34m\u001b[0m\u001b[0;34m\u001b[0m\u001b[0m\n\u001b[1;32m    808\u001b[0m                 \u001b[0mX\u001b[0m \u001b[0;34m/=\u001b[0m \u001b[0mself\u001b[0m\u001b[0;34m.\u001b[0m\u001b[0mscale_\u001b[0m\u001b[0;34m\u001b[0m\u001b[0;34m\u001b[0m\u001b[0m\n",
            "\u001b[0;31mValueError\u001b[0m: operands could not be broadcast together with shapes (1,2) (7,) (1,2) "
          ]
        }
      ]
    },
    {
      "cell_type": "markdown",
      "metadata": {
        "id": "LOU9MtKOFMDh",
        "colab_type": "text"
      },
      "source": [
        "#Predicting the Test set Results"
      ]
    },
    {
      "cell_type": "code",
      "metadata": {
        "id": "zMuuDi04FQGr",
        "colab_type": "code",
        "colab": {}
      },
      "source": [
        "y_pred = classifier.predict(X_test)\n",
        "print(np.concatenate((y_pred.reshape(len(y_pred),1), y_test.reshape(len(y_test),1)),1))"
      ],
      "execution_count": null,
      "outputs": []
    },
    {
      "cell_type": "markdown",
      "metadata": {
        "id": "xLSHEAp6HcGc",
        "colab_type": "text"
      },
      "source": [
        "#Making the Confusion Matrix"
      ]
    },
    {
      "cell_type": "code",
      "metadata": {
        "id": "4Mcjiss8HVHm",
        "colab_type": "code",
        "colab": {}
      },
      "source": [
        "from sklearn.metrics import confusion_matrix, accuracy_score\n",
        "cm = confusion_matrix(y_test, y_pred)\n",
        "print(cm)\n",
        "accuracy_score(y_test, y_pred)"
      ],
      "execution_count": null,
      "outputs": []
    },
    {
      "cell_type": "markdown",
      "metadata": {
        "id": "bsp8sRMBJbrd",
        "colab_type": "text"
      },
      "source": [
        "#Visualizing the Training set results"
      ]
    },
    {
      "cell_type": "code",
      "metadata": {
        "id": "xkynVwPxJbG8",
        "colab_type": "code",
        "colab": {}
      },
      "source": [
        "from matplotlib.colors import ListedColormap\n",
        "X_set, y_set = sc.inverse_transform(X_train), y_train\n",
        "X1, X2 = np.meshgrid(np.arange(start = X_set[:, 0].min() - 10, stop = X_set[:, 0].max() + 10, step = 0.25),\n",
        "                     np.arange(start = X_set[:, 1].min() - 1000, stop = X_set[:, 1].max() + 1000, step = 0.25))\n",
        "plt.contourf(X1, X2, classifier.predict(sc.transform(np.array([X1.ravel(), X2.ravel()]).T)).reshape(X1.shape),\n",
        "             alpha = 0.75, cmap = ListedColormap(('red', 'green')))\n",
        "plt.xlim(X1.min(), X1.max())\n",
        "plt.ylim(X2.min(), X2.max())\n",
        "for i, j in enumerate(np.unique(y_set)):\n",
        "    plt.scatter(X_set[y_set == j, 0], X_set[y_set == j, 1], c = ListedColormap(('red', 'green'))(i), label = j)\n",
        "plt.title('Logistic Regression (Training set)')\n",
        "plt.xlabel('Age')\n",
        "plt.ylabel('Estimated Salary')\n",
        "plt.legend()\n",
        "plt.show()"
      ],
      "execution_count": null,
      "outputs": []
    },
    {
      "cell_type": "markdown",
      "metadata": {
        "id": "g1GfdbgwJmuK",
        "colab_type": "text"
      },
      "source": [
        "#Visualizing the Test set Results"
      ]
    },
    {
      "cell_type": "code",
      "metadata": {
        "id": "6fTnGIJqJr_Q",
        "colab_type": "code",
        "colab": {}
      },
      "source": [
        "from matplotlib.colors import ListedColormap\n",
        "X_set, y_set = sc.inverse_transform(X_test), y_test\n",
        "X1, X2 = np.meshgrid(np.arange(start = X_set[:, 0].min() - 10, stop = X_set[:, 0].max() + 10, step = 0.25),\n",
        "                     np.arange(start = X_set[:, 1].min() - 1000, stop = X_set[:, 1].max() + 1000, step = 0.25))\n",
        "plt.contourf(X1, X2, classifier.predict(sc.transform(np.array([X1.ravel(), X2.ravel()]).T)).reshape(X1.shape),\n",
        "             alpha = 0.75, cmap = ListedColormap(('red', 'green')))\n",
        "plt.xlim(X1.min(), X1.max())\n",
        "plt.ylim(X2.min(), X2.max())\n",
        "for i, j in enumerate(np.unique(y_set)):\n",
        "    plt.scatter(X_set[y_set == j, 0], X_set[y_set == j, 1], c = ListedColormap(('red', 'green'))(i), label = j)\n",
        "plt.title('Logistic Regression (Test set)')\n",
        "plt.xlabel('Age')\n",
        "plt.ylabel('Estimated Salary')\n",
        "plt.legend()\n",
        "plt.show()"
      ],
      "execution_count": null,
      "outputs": []
    }
  ]
}